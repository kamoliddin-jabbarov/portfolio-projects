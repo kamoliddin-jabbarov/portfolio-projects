{
 "cells": [
  {
   "cell_type": "code",
   "execution_count": 2,
   "id": "1b06dcfb-550f-4ac4-860e-0fa5b5421f48",
   "metadata": {},
   "outputs": [],
   "source": [
    "import pandas as pd\n",
    "import numpy as np\n",
    "from random import randint, choice, uniform"
   ]
  },
  {
   "cell_type": "code",
   "execution_count": 3,
   "id": "2033b1a1-c104-46f2-9e67-eef952c477d6",
   "metadata": {},
   "outputs": [
    {
     "name": "stderr",
     "output_type": "stream",
     "text": [
      "C:\\Users\\user\\AppData\\Local\\Temp\\ipykernel_25932\\376263422.py:1: FutureWarning: 'M' is deprecated and will be removed in a future version, please use 'ME' instead.\n",
      "  date_range = pd.date_range(start=\"2024-01-01\", end=\"2025-03-31\", freq='M')\n"
     ]
    }
   ],
   "source": [
    "date_range = pd.date_range(start=\"2024-01-01\", end=\"2025-03-31\", freq='M')"
   ]
  },
  {
   "cell_type": "code",
   "execution_count": 4,
   "id": "e59a45af-9951-4098-b697-25b2e02d87d9",
   "metadata": {},
   "outputs": [],
   "source": [
    "combinations = [\n",
    "    (\"HNU2HNU\", \"01125000011252Q\", \"01125000011252Q\"),\n",
    "    (\"HNU2HNX\", \"01125000011252Q\", \"01125000011252Q\"),\n",
    "    (\"HNU2UNU\", \"01125000011252R\", \"9006139238\"),\n",
    "    (\"HNU2UNU\", \"011250000112532\", \"9006139238\"),\n",
    "    (\"HNU2UNX\", \"01125000011252R\", \"9006139238\"),\n",
    "    (\"HNU2UNX\", \"011250000112532\", \"9006139238\"),\n",
    "    (\"HNX2HNU\", \"01125000011252Q\", \"01125000011252Q\"),\n",
    "    (\"HNX2HNX\", \"01125000011252Q\", \"01125000011252Q\"),\n",
    "    (\"HNX2UNU\", \"01125000011252R\", \"9006139238\"),\n",
    "    (\"HNX2UNU\", \"011250000112532\", \"9006139238\"),\n",
    "    (\"HNX2UNX\", \"01125000011252T\", \"9006139344\"),\n",
    "    (\"UNU2HNU\", \"9006139240\", \"01125000011252W\"),\n",
    "    (\"UNU2HNX\", \"9006139240\", \"01125000011252W\"),\n",
    "    (\"UNU2UNU\", \"9006139234\", \"9006139234\"),\n",
    "    (\"UNU2UNX\", \"9006139234\", \"9006139234\"),\n",
    "    (\"UNX2HNU\", \"9006139239\", \"01125000011252V\"),\n",
    "    (\"UNX2HNX\", \"9006139345\", \"01125000011252U\"),\n",
    "    (\"UNX2UNU\", \"9006139237\", \"9006139237\"),\n",
    "    (\"UNX2UNX\", \"9006139343\", \"9006139343\")\n",
    "]"
   ]
  },
  {
   "cell_type": "code",
   "execution_count": 5,
   "id": "df2a52ed-dc63-4662-9e53-dc2d4e7fe45d",
   "metadata": {},
   "outputs": [],
   "source": [
    "num_months = 15\n",
    "num_rows = len(combinations) * num_months"
   ]
  },
  {
   "cell_type": "code",
   "execution_count": 6,
   "id": "dbdb4c8a-ab37-4c60-ab2e-099e7dd2db99",
   "metadata": {},
   "outputs": [],
   "source": [
    "data = []\n",
    "for date in date_range:\n",
    "    month = date.strftime(\"%Y-%m\")\n",
    "    year = int(month[:4])\n",
    "    year_multiplier = 1.2 if year == 2025 else 1.0\n",
    "    \n",
    "    for operation_code, sender_merchant, recipient_merchant in combinations:\n",
    "        peak_hour = randint(8, 23)\n",
    "        transaction_time = randint(0, 59)\n",
    "        active_users = int(randint(5, 200) * year_multiplier)\n",
    "        new_users = int(randint(100, 20000) * year_multiplier)\n",
    "        debit = int(randint(1_000_000, 100_000_000) * year_multiplier)\n",
    "        credit = int(randint(1_000_000, 100_000_000) * year_multiplier)\n",
    "        \n",
    "        if month.endswith(\"-01\"):\n",
    "            transactions = int(randint(500, 5000) * year_multiplier)\n",
    "        else:\n",
    "            transactions = int(randint(5000, 20000) * year_multiplier)\n",
    "        \n",
    "        user_growth_rate = round(uniform(-100, 600) * year_multiplier, 2)\n",
    "        commission = int(randint(0, 200000) * year_multiplier)\n",
    "        commission_percent = round(uniform(0, 0.5), 2)\n",
    "        expense_rate = round(uniform(0.1, 0.5), 2)\n",
    "        total_expense = debit + credit\n",
    "        sender_expense = randint(0, total_expense)\n",
    "        recipient_expense = total_expense - sender_expense\n",
    "        \n",
    "        row = [\n",
    "            operation_code, total_expense, sender_expense, recipient_expense,\n",
    "            sender_merchant, recipient_merchant, month, peak_hour, transaction_time,\n",
    "            active_users, new_users, debit, credit, commission, transactions,\n",
    "            user_growth_rate, f\"{commission_percent:.2%}\", f\"{expense_rate:.2%}\"\n",
    "        ]\n",
    "        data.append(row)"
   ]
  },
  {
   "cell_type": "code",
   "execution_count": 7,
   "id": "c5a3aff4-2da6-41b3-a5bc-a1823cc79b42",
   "metadata": {},
   "outputs": [],
   "source": [
    "df = pd.DataFrame(data, columns=[\n",
    "    \"operation_code\", \"Сумма расходов\", \"Расходы отправителя\", \"Расходы получателя\",\n",
    "    \"sender_merchant\", \"recipient_merchant\", \"month\", \"peak_hour\", \"transaction_time\",\n",
    "    \"active_users\", \"new_users\", \"debit\", \"credit\", \"commission\", \"transactions\",\n",
    "    \"user_growth_rate\", \"Комиссия %\", \"Расход\"\n",
    "])\n",
    "\n",
    "df.to_csv(\"fake_transactions.csv\", index=False)"
   ]
  },
  {
   "cell_type": "code",
   "execution_count": null,
   "id": "6d5c2ce4-e507-4934-bcd4-0172c7d1356f",
   "metadata": {},
   "outputs": [],
   "source": []
  }
 ],
 "metadata": {
  "kernelspec": {
   "display_name": "Python 3 (ipykernel)",
   "language": "python",
   "name": "python3"
  },
  "language_info": {
   "codemirror_mode": {
    "name": "ipython",
    "version": 3
   },
   "file_extension": ".py",
   "mimetype": "text/x-python",
   "name": "python",
   "nbconvert_exporter": "python",
   "pygments_lexer": "ipython3",
   "version": "3.10.0"
  }
 },
 "nbformat": 4,
 "nbformat_minor": 5
}
